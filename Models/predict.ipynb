{
 "cells": [
  {
   "cell_type": "code",
   "execution_count": null,
   "id": "ff00e4e2",
   "metadata": {},
   "outputs": [],
   "source": [
    "import numpy as np\n",
    "import cv2\n",
    "from tensorflow.keras.models import load_model\n",
    "\n",
    "IMG_HEIGHT = 256\n",
    "IMG_WIDTH = 256\n",
    "\n",
    "# Load trained model\n",
    "model = load_model('unet_model.h5')\n",
    "\n",
    "# Path to test image\n",
    "test_image_path = 'D:\\BTP\\Dataset\\set_btp\\set_2\\set_2'\n",
    "\n",
    "# Load and preprocess test image\n",
    "img = cv2.imread(test_image_path)\n",
    "orig_shape = img.shape[:2]\n",
    "img_resized = cv2.resize(img, (IMG_WIDTH, IMG_HEIGHT)) / 255.\n",
    "img_input = np.expand_dims(img_resized, axis=0)\n",
    "\n",
    "# Predict mask\n",
    "pred_mask = model.predict(img_input)[0]\n",
    "pred_mask = np.argmax(pred_mask, axis=-1).astype(np.uint8)\n",
    "\n",
    "# Resize mask back to original size\n",
    "pred_mask_resized = cv2.resize(pred_mask, (orig_shape[1], orig_shape[0]), interpolation=cv2.INTER_NEAREST)\n",
    "\n",
    "# Save predicted mask\n",
    "cv2.imwrite('predicted_mask.png', pred_mask_resized * 60)  # Scaling for visibility\n"
   ]
  }
 ],
 "metadata": {
  "language_info": {
   "name": "python"
  }
 },
 "nbformat": 4,
 "nbformat_minor": 5
}
